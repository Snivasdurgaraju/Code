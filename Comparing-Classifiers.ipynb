{
 "cells": [
  {
   "cell_type": "markdown",
   "id": "b22aca74",
   "metadata": {},
   "source": [
    "# Import DataSet"
   ]
  },
  {
   "cell_type": "code",
   "execution_count": 1,
   "id": "99e4e84a",
   "metadata": {},
   "outputs": [],
   "source": [
    "from sklearn.datasets import make_classification"
   ]
  },
  {
   "cell_type": "markdown",
   "id": "3f0229de",
   "metadata": {},
   "source": [
    "# Generate the dataset"
   ]
  },
  {
   "cell_type": "code",
   "execution_count": 26,
   "id": "0c41e402",
   "metadata": {},
   "outputs": [],
   "source": [
    "X,Y = make_classification(n_samples=1000,n_classes=2,n_features=5,n_redundant=0,random_state=1)"
   ]
  },
  {
   "cell_type": "code",
   "execution_count": 27,
   "id": "35c237a5",
   "metadata": {},
   "outputs": [
    {
     "data": {
      "text/plain": [
       "(1000, 5)"
      ]
     },
     "execution_count": 27,
     "metadata": {},
     "output_type": "execute_result"
    }
   ],
   "source": [
    "X.shape"
   ]
  },
  {
   "cell_type": "code",
   "execution_count": 28,
   "id": "d6450e0d",
   "metadata": {},
   "outputs": [
    {
     "data": {
      "text/plain": [
       "(1000,)"
      ]
     },
     "execution_count": 28,
     "metadata": {},
     "output_type": "execute_result"
    }
   ],
   "source": [
    "Y.shape"
   ]
  },
  {
   "cell_type": "markdown",
   "id": "64cb1d25",
   "metadata": {},
   "source": [
    "# Data Split (70/30 ratio)"
   ]
  },
  {
   "cell_type": "markdown",
   "id": "f367c34b",
   "metadata": {},
   "source": [
    "# import library"
   ]
  },
  {
   "cell_type": "code",
   "execution_count": 29,
   "id": "77f2331b",
   "metadata": {},
   "outputs": [],
   "source": [
    "from sklearn.model_selection import train_test_split"
   ]
  },
  {
   "cell_type": "code",
   "execution_count": 49,
   "id": "610b91b7",
   "metadata": {},
   "outputs": [],
   "source": [
    "X_train,X_test,Y_train,Y_test = train_test_split(X,Y, test_size=0.3)"
   ]
  },
  {
   "cell_type": "code",
   "execution_count": 50,
   "id": "5a992d76",
   "metadata": {},
   "outputs": [
    {
     "data": {
      "text/plain": [
       "((700, 5), (700,))"
      ]
     },
     "execution_count": 50,
     "metadata": {},
     "output_type": "execute_result"
    }
   ],
   "source": [
    "X_train.shape,Y_train.shape"
   ]
  },
  {
   "cell_type": "code",
   "execution_count": 51,
   "id": "bbe1deab",
   "metadata": {},
   "outputs": [
    {
     "data": {
      "text/plain": [
       "((300, 5), (300,))"
      ]
     },
     "execution_count": 51,
     "metadata": {},
     "output_type": "execute_result"
    }
   ],
   "source": [
    "X_test.shape,Y_test.shape"
   ]
  },
  {
   "cell_type": "markdown",
   "id": "c242aac0",
   "metadata": {},
   "source": [
    "# Building the Classficiaton Models"
   ]
  },
  {
   "cell_type": "code",
   "execution_count": 56,
   "id": "fe1f28b7",
   "metadata": {},
   "outputs": [],
   "source": [
    "import pandas as pd\n",
    "from sklearn.neural_network import MLPClassifier\n",
    "from sklearn.neighbors import KNeighborsClassifier\n",
    "from sklearn.svm import SVC\n",
    "from sklearn.gaussian_process import GaussianProcessClassifier\n",
    "from sklearn.ensemble import GradientBoostingClassifier\n",
    "from sklearn.gaussian_process.kernels import RBF\n",
    "from sklearn.tree import DecisionTreeClassifier\n",
    "from sklearn.ensemble import ExtraTreesClassifier\n",
    "from sklearn.ensemble import RandomForestClassifier, AdaBoostClassifier\n",
    "from sklearn.naive_bayes import GaussianNB\n",
    "from sklearn.discriminant_analysis import QuadraticDiscriminantAnalysis\n",
    "from sklearn.linear_model import SGDClassifier"
   ]
  },
  {
   "cell_type": "code",
   "execution_count": 68,
   "id": "5785baf2",
   "metadata": {},
   "outputs": [],
   "source": [
    "names = [\"Nearest_Neighbours\", \"Linear_SVM\", \"Polynomial_SVM\", \"RBF_SVM\", \"Gaussian_Process\",\n",
    "         \"Gradient_Boosting\", \"Decision_Tree\", \"Extra_Tress\", \"Random_Forest\", \"Neural_Net\",\n",
    "         \"AdaBoost\", \"Naive_Bayes\", \"QDA\", \"SGD\"]\n",
    "\n",
    "classifiers = [\n",
    "    KNeighborsClassifier(3),\n",
    "    SVC(kernel=\"linear\",C=0.025),\n",
    "    SVC(kernel=\"poly\",degree=3,C=0.025),\n",
    "    SVC(kernel=\"rbf\",C=1,gamma=2),\n",
    "    GaussianProcessClassifier(1.0 * RBF(1.0)),\n",
    "    GradientBoostingClassifier(n_estimators=100, learning_rate=1.0),\n",
    "    DecisionTreeClassifier(max_depth=5),\n",
    "    ExtraTreesClassifier(n_estimators=10, min_samples_split=2),\n",
    "    RandomForestClassifier(max_depth=5, n_estimators=100),\n",
    "    MLPClassifier(alpha=1, max_iter=1000),\n",
    "    AdaBoostClassifier(n_estimators=100),\n",
    "    GaussianNB(),\n",
    "    QuadraticDiscriminantAnalysis(),\n",
    "    SGDClassifier(loss=\"hinge\", penalty='l2')\n",
    "]\n"
   ]
  },
  {
   "cell_type": "markdown",
   "id": "fbe92c01",
   "metadata": {},
   "source": [
    "# Build Model, Apply Model on Test Data & Record Accuracy Scores"
   ]
  },
  {
   "cell_type": "code",
   "execution_count": 70,
   "id": "a38f5a91",
   "metadata": {},
   "outputs": [],
   "source": [
    "scores = []\n",
    "for name, clf in zip(names, classifiers):\n",
    "    clf.fit(X_train, Y_train)\n",
    "    score = clf.score(X_test, Y_test)\n",
    "    scores.append(score)"
   ]
  },
  {
   "cell_type": "code",
   "execution_count": 71,
   "id": "9b74381c",
   "metadata": {},
   "outputs": [
    {
     "data": {
      "text/plain": [
       "[0.8566666666666667,\n",
       " 0.8533333333333334,\n",
       " 0.8,\n",
       " 0.83,\n",
       " 0.87,\n",
       " 0.8433333333333334,\n",
       " 0.8533333333333334,\n",
       " 0.84,\n",
       " 0.86,\n",
       " 0.8733333333333333,\n",
       " 0.8333333333333334,\n",
       " 0.8633333333333333,\n",
       " 0.8533333333333334,\n",
       " 0.8166666666666667]"
      ]
     },
     "execution_count": 71,
     "metadata": {},
     "output_type": "execute_result"
    }
   ],
   "source": [
    "scores"
   ]
  },
  {
   "cell_type": "markdown",
   "id": "01eb4c31",
   "metadata": {},
   "source": [
    "# Analysis of Model Performance\n",
    "#Import Library"
   ]
  },
  {
   "cell_type": "code",
   "execution_count": 72,
   "id": "872bb94b",
   "metadata": {},
   "outputs": [],
   "source": [
    "import pandas as pd\n",
    "import seaborn as sns"
   ]
  },
  {
   "cell_type": "markdown",
   "id": "bf9d4b31",
   "metadata": {},
   "source": [
    "# Create data frame of model Performance"
   ]
  },
  {
   "cell_type": "code",
   "execution_count": 74,
   "id": "d89f1b25",
   "metadata": {},
   "outputs": [
    {
     "data": {
      "text/html": [
       "<div>\n",
       "<style scoped>\n",
       "    .dataframe tbody tr th:only-of-type {\n",
       "        vertical-align: middle;\n",
       "    }\n",
       "\n",
       "    .dataframe tbody tr th {\n",
       "        vertical-align: top;\n",
       "    }\n",
       "\n",
       "    .dataframe thead th {\n",
       "        text-align: right;\n",
       "    }\n",
       "</style>\n",
       "<table border=\"1\" class=\"dataframe\">\n",
       "  <thead>\n",
       "    <tr style=\"text-align: right;\">\n",
       "      <th></th>\n",
       "      <th>Name</th>\n",
       "      <th>Scores</th>\n",
       "    </tr>\n",
       "  </thead>\n",
       "  <tbody>\n",
       "    <tr>\n",
       "      <th>0</th>\n",
       "      <td>Nearest_Neighbours</td>\n",
       "      <td>0.856667</td>\n",
       "    </tr>\n",
       "    <tr>\n",
       "      <th>1</th>\n",
       "      <td>Linear_SVM</td>\n",
       "      <td>0.853333</td>\n",
       "    </tr>\n",
       "    <tr>\n",
       "      <th>2</th>\n",
       "      <td>Polynomial_SVM</td>\n",
       "      <td>0.800000</td>\n",
       "    </tr>\n",
       "    <tr>\n",
       "      <th>3</th>\n",
       "      <td>RBF_SVM</td>\n",
       "      <td>0.830000</td>\n",
       "    </tr>\n",
       "    <tr>\n",
       "      <th>4</th>\n",
       "      <td>Gaussian_Process</td>\n",
       "      <td>0.870000</td>\n",
       "    </tr>\n",
       "    <tr>\n",
       "      <th>5</th>\n",
       "      <td>Gradient_Boosting</td>\n",
       "      <td>0.843333</td>\n",
       "    </tr>\n",
       "    <tr>\n",
       "      <th>6</th>\n",
       "      <td>Decision_Tree</td>\n",
       "      <td>0.853333</td>\n",
       "    </tr>\n",
       "    <tr>\n",
       "      <th>7</th>\n",
       "      <td>Extra_Tress</td>\n",
       "      <td>0.840000</td>\n",
       "    </tr>\n",
       "    <tr>\n",
       "      <th>8</th>\n",
       "      <td>Random_Forest</td>\n",
       "      <td>0.860000</td>\n",
       "    </tr>\n",
       "    <tr>\n",
       "      <th>9</th>\n",
       "      <td>Neural_Net</td>\n",
       "      <td>0.873333</td>\n",
       "    </tr>\n",
       "    <tr>\n",
       "      <th>10</th>\n",
       "      <td>AdaBoost</td>\n",
       "      <td>0.833333</td>\n",
       "    </tr>\n",
       "    <tr>\n",
       "      <th>11</th>\n",
       "      <td>Naive_Bayes</td>\n",
       "      <td>0.863333</td>\n",
       "    </tr>\n",
       "    <tr>\n",
       "      <th>12</th>\n",
       "      <td>QDA</td>\n",
       "      <td>0.853333</td>\n",
       "    </tr>\n",
       "    <tr>\n",
       "      <th>13</th>\n",
       "      <td>SGD</td>\n",
       "      <td>0.816667</td>\n",
       "    </tr>\n",
       "  </tbody>\n",
       "</table>\n",
       "</div>"
      ],
      "text/plain": [
       "                  Name    Scores\n",
       "0   Nearest_Neighbours  0.856667\n",
       "1           Linear_SVM  0.853333\n",
       "2       Polynomial_SVM  0.800000\n",
       "3              RBF_SVM  0.830000\n",
       "4     Gaussian_Process  0.870000\n",
       "5    Gradient_Boosting  0.843333\n",
       "6        Decision_Tree  0.853333\n",
       "7          Extra_Tress  0.840000\n",
       "8        Random_Forest  0.860000\n",
       "9           Neural_Net  0.873333\n",
       "10            AdaBoost  0.833333\n",
       "11         Naive_Bayes  0.863333\n",
       "12                 QDA  0.853333\n",
       "13                 SGD  0.816667"
      ]
     },
     "execution_count": 74,
     "metadata": {},
     "output_type": "execute_result"
    }
   ],
   "source": [
    "df = pd.DataFrame()\n",
    "df['Name'] = names\n",
    "df['Scores'] = scores\n",
    "df"
   ]
  },
  {
   "cell_type": "markdown",
   "id": "a6fe1e8a",
   "metadata": {},
   "source": [
    "# Adding Colours to the data frame"
   ]
  },
  {
   "cell_type": "code",
   "execution_count": 78,
   "id": "2c9cec99",
   "metadata": {},
   "outputs": [
    {
     "data": {
      "text/html": [
       "<style  type=\"text/css\" >\n",
       "#T_7c595_row0_col1{\n",
       "            background-color:  #d00808;\n",
       "            color:  #f1f1f1;\n",
       "        }#T_7c595_row1_col1,#T_7c595_row6_col1,#T_7c595_row12_col1{\n",
       "            background-color:  #c70909;\n",
       "            color:  #f1f1f1;\n",
       "        }#T_7c595_row2_col1{\n",
       "            background-color:  #312222;\n",
       "            color:  #f1f1f1;\n",
       "        }#T_7c595_row3_col1{\n",
       "            background-color:  #851414;\n",
       "            color:  #f1f1f1;\n",
       "        }#T_7c595_row4_col1{\n",
       "            background-color:  #f60101;\n",
       "            color:  #f1f1f1;\n",
       "        }#T_7c595_row5_col1{\n",
       "            background-color:  #ab0e0e;\n",
       "            color:  #f1f1f1;\n",
       "        }#T_7c595_row7_col1{\n",
       "            background-color:  #a10f0f;\n",
       "            color:  #f1f1f1;\n",
       "        }#T_7c595_row8_col1{\n",
       "            background-color:  #da0606;\n",
       "            color:  #f1f1f1;\n",
       "        }#T_7c595_row9_col1{\n",
       "            background-color:  #ff0000;\n",
       "            color:  #f1f1f1;\n",
       "        }#T_7c595_row10_col1{\n",
       "            background-color:  #8f1212;\n",
       "            color:  #f1f1f1;\n",
       "        }#T_7c595_row11_col1{\n",
       "            background-color:  #e40505;\n",
       "            color:  #f1f1f1;\n",
       "        }#T_7c595_row13_col1{\n",
       "            background-color:  #601a1a;\n",
       "            color:  #f1f1f1;\n",
       "        }</style><table id=\"T_7c595_\" ><thead>    <tr>        <th class=\"blank level0\" ></th>        <th class=\"col_heading level0 col0\" >Name</th>        <th class=\"col_heading level0 col1\" >Scores</th>    </tr></thead><tbody>\n",
       "                <tr>\n",
       "                        <th id=\"T_7c595_level0_row0\" class=\"row_heading level0 row0\" >0</th>\n",
       "                        <td id=\"T_7c595_row0_col0\" class=\"data row0 col0\" >Nearest_Neighbours</td>\n",
       "                        <td id=\"T_7c595_row0_col1\" class=\"data row0 col1\" >0.856667</td>\n",
       "            </tr>\n",
       "            <tr>\n",
       "                        <th id=\"T_7c595_level0_row1\" class=\"row_heading level0 row1\" >1</th>\n",
       "                        <td id=\"T_7c595_row1_col0\" class=\"data row1 col0\" >Linear_SVM</td>\n",
       "                        <td id=\"T_7c595_row1_col1\" class=\"data row1 col1\" >0.853333</td>\n",
       "            </tr>\n",
       "            <tr>\n",
       "                        <th id=\"T_7c595_level0_row2\" class=\"row_heading level0 row2\" >2</th>\n",
       "                        <td id=\"T_7c595_row2_col0\" class=\"data row2 col0\" >Polynomial_SVM</td>\n",
       "                        <td id=\"T_7c595_row2_col1\" class=\"data row2 col1\" >0.800000</td>\n",
       "            </tr>\n",
       "            <tr>\n",
       "                        <th id=\"T_7c595_level0_row3\" class=\"row_heading level0 row3\" >3</th>\n",
       "                        <td id=\"T_7c595_row3_col0\" class=\"data row3 col0\" >RBF_SVM</td>\n",
       "                        <td id=\"T_7c595_row3_col1\" class=\"data row3 col1\" >0.830000</td>\n",
       "            </tr>\n",
       "            <tr>\n",
       "                        <th id=\"T_7c595_level0_row4\" class=\"row_heading level0 row4\" >4</th>\n",
       "                        <td id=\"T_7c595_row4_col0\" class=\"data row4 col0\" >Gaussian_Process</td>\n",
       "                        <td id=\"T_7c595_row4_col1\" class=\"data row4 col1\" >0.870000</td>\n",
       "            </tr>\n",
       "            <tr>\n",
       "                        <th id=\"T_7c595_level0_row5\" class=\"row_heading level0 row5\" >5</th>\n",
       "                        <td id=\"T_7c595_row5_col0\" class=\"data row5 col0\" >Gradient_Boosting</td>\n",
       "                        <td id=\"T_7c595_row5_col1\" class=\"data row5 col1\" >0.843333</td>\n",
       "            </tr>\n",
       "            <tr>\n",
       "                        <th id=\"T_7c595_level0_row6\" class=\"row_heading level0 row6\" >6</th>\n",
       "                        <td id=\"T_7c595_row6_col0\" class=\"data row6 col0\" >Decision_Tree</td>\n",
       "                        <td id=\"T_7c595_row6_col1\" class=\"data row6 col1\" >0.853333</td>\n",
       "            </tr>\n",
       "            <tr>\n",
       "                        <th id=\"T_7c595_level0_row7\" class=\"row_heading level0 row7\" >7</th>\n",
       "                        <td id=\"T_7c595_row7_col0\" class=\"data row7 col0\" >Extra_Tress</td>\n",
       "                        <td id=\"T_7c595_row7_col1\" class=\"data row7 col1\" >0.840000</td>\n",
       "            </tr>\n",
       "            <tr>\n",
       "                        <th id=\"T_7c595_level0_row8\" class=\"row_heading level0 row8\" >8</th>\n",
       "                        <td id=\"T_7c595_row8_col0\" class=\"data row8 col0\" >Random_Forest</td>\n",
       "                        <td id=\"T_7c595_row8_col1\" class=\"data row8 col1\" >0.860000</td>\n",
       "            </tr>\n",
       "            <tr>\n",
       "                        <th id=\"T_7c595_level0_row9\" class=\"row_heading level0 row9\" >9</th>\n",
       "                        <td id=\"T_7c595_row9_col0\" class=\"data row9 col0\" >Neural_Net</td>\n",
       "                        <td id=\"T_7c595_row9_col1\" class=\"data row9 col1\" >0.873333</td>\n",
       "            </tr>\n",
       "            <tr>\n",
       "                        <th id=\"T_7c595_level0_row10\" class=\"row_heading level0 row10\" >10</th>\n",
       "                        <td id=\"T_7c595_row10_col0\" class=\"data row10 col0\" >AdaBoost</td>\n",
       "                        <td id=\"T_7c595_row10_col1\" class=\"data row10 col1\" >0.833333</td>\n",
       "            </tr>\n",
       "            <tr>\n",
       "                        <th id=\"T_7c595_level0_row11\" class=\"row_heading level0 row11\" >11</th>\n",
       "                        <td id=\"T_7c595_row11_col0\" class=\"data row11 col0\" >Naive_Bayes</td>\n",
       "                        <td id=\"T_7c595_row11_col1\" class=\"data row11 col1\" >0.863333</td>\n",
       "            </tr>\n",
       "            <tr>\n",
       "                        <th id=\"T_7c595_level0_row12\" class=\"row_heading level0 row12\" >12</th>\n",
       "                        <td id=\"T_7c595_row12_col0\" class=\"data row12 col0\" >QDA</td>\n",
       "                        <td id=\"T_7c595_row12_col1\" class=\"data row12 col1\" >0.853333</td>\n",
       "            </tr>\n",
       "            <tr>\n",
       "                        <th id=\"T_7c595_level0_row13\" class=\"row_heading level0 row13\" >13</th>\n",
       "                        <td id=\"T_7c595_row13_col0\" class=\"data row13 col0\" >SGD</td>\n",
       "                        <td id=\"T_7c595_row13_col1\" class=\"data row13 col1\" >0.816667</td>\n",
       "            </tr>\n",
       "    </tbody></table>"
      ],
      "text/plain": [
       "<pandas.io.formats.style.Styler at 0x19e098a9580>"
      ]
     },
     "execution_count": 78,
     "metadata": {},
     "output_type": "execute_result"
    }
   ],
   "source": [
    "cm = sns.dark_palette(\"red\", as_cmap=True)\n",
    "s = df.style.background_gradient(cmap=cm)\n",
    "s"
   ]
  },
  {
   "cell_type": "markdown",
   "id": "73683460",
   "metadata": {},
   "source": [
    "# Bar Plot of model Performance"
   ]
  },
  {
   "cell_type": "code",
   "execution_count": 86,
   "id": "6cbe9b67",
   "metadata": {},
   "outputs": [
    {
     "data": {
      "image/png": "[encoded data removed]",
      "text/plain": [
       "<Figure size 432x288 with 1 Axes>"
      ]
     },
     "metadata": {},
     "output_type": "display_data"
    }
   ],
   "source": [
    "sns.set(style=\"dark\")\n",
    "ax = sns.barplot(y=\"Name\",x=\"Scores\",data = df)"
   ]
  },
  {
   "cell_type": "code",
   "execution_count": null,
   "id": "c397fb4e",
   "metadata": {},
   "outputs": [],
   "source": []
  }
 ],
 "metadata": {
  "kernelspec": {
   "display_name": "Python 3",
   "language": "python",
   "name": "python3"
  },
  "language_info": {
   "codemirror_mode": {
    "name": "ipython",
    "version": 3
   },
   "file_extension": ".py",
   "mimetype": "text/x-python",
   "name": "python",
   "nbconvert_exporter": "python",
   "pygments_lexer": "ipython3",
   "version": "3.8.8"
  }
 },
 "nbformat": 4,
 "nbformat_minor": 5
}
