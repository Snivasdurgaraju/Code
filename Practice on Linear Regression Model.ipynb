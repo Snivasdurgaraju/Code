{
 "cells": [
  {
   "cell_type": "code",
   "execution_count": 1,
   "id": "8cbb5997",
   "metadata": {},
   "outputs": [],
   "source": [
    "import pandas as pd\n",
    "import numpy as np"
   ]
  },
  {
   "cell_type": "code",
   "execution_count": 3,
   "id": "2b06d9de",
   "metadata": {},
   "outputs": [],
   "source": [
    "import matplotlib.pyplot as plt"
   ]
  },
  {
   "cell_type": "code",
   "execution_count": 6,
   "id": "900a0404",
   "metadata": {},
   "outputs": [],
   "source": [
    "from sklearn import linear_model\n",
    "from sklearn.model_selection import train_test_split\n",
    "from sklearn.metrics import mean_squared_error, r2_score"
   ]
  },
  {
   "cell_type": "code",
   "execution_count": 7,
   "id": "2505a21f",
   "metadata": {},
   "outputs": [],
   "source": [
    "import seaborn as sns"
   ]
  },
  {
   "cell_type": "code",
   "execution_count": 49,
   "id": "988c2cb9",
   "metadata": {},
   "outputs": [],
   "source": [
    "pd.set_option('display.float_format', lambda x: '%.2f' %x)"
   ]
  },
  {
   "cell_type": "code",
   "execution_count": 50,
   "id": "41149ea6",
   "metadata": {},
   "outputs": [],
   "source": [
    "df = pd.read_csv(r\"C:\\Users\\siva srinivas\\Downloads\\Machine Learning\\Copy of superstore_sales(1).csv\")"
   ]
  },
  {
   "cell_type": "code",
   "execution_count": 51,
   "id": "a5edc6bd",
   "metadata": {},
   "outputs": [
    {
     "data": {
      "text/html": [
       "<div>\n",
       "<style scoped>\n",
       "    .dataframe tbody tr th:only-of-type {\n",
       "        vertical-align: middle;\n",
       "    }\n",
       "\n",
       "    .dataframe tbody tr th {\n",
       "        vertical-align: top;\n",
       "    }\n",
       "\n",
       "    .dataframe thead th {\n",
       "        text-align: right;\n",
       "    }\n",
       "</style>\n",
       "<table border=\"1\" class=\"dataframe\">\n",
       "  <thead>\n",
       "    <tr style=\"text-align: right;\">\n",
       "      <th></th>\n",
       "      <th>Order ID</th>\n",
       "      <th>Order Date</th>\n",
       "      <th>Order Priority</th>\n",
       "      <th>Order Quantity</th>\n",
       "      <th>Sales</th>\n",
       "      <th>Discount</th>\n",
       "      <th>Ship Mode</th>\n",
       "      <th>Profit</th>\n",
       "      <th>Unit Price</th>\n",
       "      <th>Shipping Cost</th>\n",
       "      <th>Customer Name</th>\n",
       "      <th>Province</th>\n",
       "      <th>Region</th>\n",
       "      <th>Customer Segment</th>\n",
       "      <th>Product Category</th>\n",
       "      <th>Product Sub-Category</th>\n",
       "      <th>Product Base Margin</th>\n",
       "      <th>Ship Date</th>\n",
       "    </tr>\n",
       "  </thead>\n",
       "  <tbody>\n",
       "    <tr>\n",
       "      <th>0</th>\n",
       "      <td>3</td>\n",
       "      <td>13-10-2010</td>\n",
       "      <td>Low</td>\n",
       "      <td>6</td>\n",
       "      <td>261.54</td>\n",
       "      <td>0.04</td>\n",
       "      <td>Regular Air</td>\n",
       "      <td>-213.25</td>\n",
       "      <td>38.94</td>\n",
       "      <td>35.00</td>\n",
       "      <td>Muhammed MacIntyre</td>\n",
       "      <td>Nunavut</td>\n",
       "      <td>Nunavut</td>\n",
       "      <td>Small Business</td>\n",
       "      <td>Office Supplies</td>\n",
       "      <td>Storage &amp; Organization</td>\n",
       "      <td>0.80</td>\n",
       "      <td>20-10-2010</td>\n",
       "    </tr>\n",
       "    <tr>\n",
       "      <th>1</th>\n",
       "      <td>293</td>\n",
       "      <td>01-10-2012</td>\n",
       "      <td>High</td>\n",
       "      <td>49</td>\n",
       "      <td>10123.02</td>\n",
       "      <td>0.07</td>\n",
       "      <td>Delivery Truck</td>\n",
       "      <td>457.81</td>\n",
       "      <td>208.16</td>\n",
       "      <td>68.02</td>\n",
       "      <td>Barry French</td>\n",
       "      <td>Nunavut</td>\n",
       "      <td>Nunavut</td>\n",
       "      <td>Consumer</td>\n",
       "      <td>Office Supplies</td>\n",
       "      <td>Appliances</td>\n",
       "      <td>0.58</td>\n",
       "      <td>02-10-2012</td>\n",
       "    </tr>\n",
       "    <tr>\n",
       "      <th>2</th>\n",
       "      <td>293</td>\n",
       "      <td>01-10-2012</td>\n",
       "      <td>High</td>\n",
       "      <td>27</td>\n",
       "      <td>244.57</td>\n",
       "      <td>0.01</td>\n",
       "      <td>Regular Air</td>\n",
       "      <td>46.71</td>\n",
       "      <td>8.69</td>\n",
       "      <td>2.99</td>\n",
       "      <td>Barry French</td>\n",
       "      <td>Nunavut</td>\n",
       "      <td>Nunavut</td>\n",
       "      <td>Consumer</td>\n",
       "      <td>Office Supplies</td>\n",
       "      <td>Binders and Binder Accessories</td>\n",
       "      <td>0.39</td>\n",
       "      <td>03-10-2012</td>\n",
       "    </tr>\n",
       "    <tr>\n",
       "      <th>3</th>\n",
       "      <td>483</td>\n",
       "      <td>10-07-2011</td>\n",
       "      <td>High</td>\n",
       "      <td>30</td>\n",
       "      <td>4965.76</td>\n",
       "      <td>0.08</td>\n",
       "      <td>Regular Air</td>\n",
       "      <td>1198.97</td>\n",
       "      <td>195.99</td>\n",
       "      <td>3.99</td>\n",
       "      <td>Clay Rozendal</td>\n",
       "      <td>Nunavut</td>\n",
       "      <td>Nunavut</td>\n",
       "      <td>Corporate</td>\n",
       "      <td>Technology</td>\n",
       "      <td>Telephones and Communication</td>\n",
       "      <td>0.58</td>\n",
       "      <td>12-07-2011</td>\n",
       "    </tr>\n",
       "    <tr>\n",
       "      <th>4</th>\n",
       "      <td>515</td>\n",
       "      <td>28-08-2010</td>\n",
       "      <td>Not Specified</td>\n",
       "      <td>19</td>\n",
       "      <td>394.27</td>\n",
       "      <td>0.08</td>\n",
       "      <td>Regular Air</td>\n",
       "      <td>30.94</td>\n",
       "      <td>21.78</td>\n",
       "      <td>5.94</td>\n",
       "      <td>Carlos Soltero</td>\n",
       "      <td>Nunavut</td>\n",
       "      <td>Nunavut</td>\n",
       "      <td>Consumer</td>\n",
       "      <td>Office Supplies</td>\n",
       "      <td>Appliances</td>\n",
       "      <td>0.50</td>\n",
       "      <td>30-08-2010</td>\n",
       "    </tr>\n",
       "    <tr>\n",
       "      <th>...</th>\n",
       "      <td>...</td>\n",
       "      <td>...</td>\n",
       "      <td>...</td>\n",
       "      <td>...</td>\n",
       "      <td>...</td>\n",
       "      <td>...</td>\n",
       "      <td>...</td>\n",
       "      <td>...</td>\n",
       "      <td>...</td>\n",
       "      <td>...</td>\n",
       "      <td>...</td>\n",
       "      <td>...</td>\n",
       "      <td>...</td>\n",
       "      <td>...</td>\n",
       "      <td>...</td>\n",
       "      <td>...</td>\n",
       "      <td>...</td>\n",
       "      <td>...</td>\n",
       "    </tr>\n",
       "    <tr>\n",
       "      <th>8394</th>\n",
       "      <td>55558</td>\n",
       "      <td>09-08-2010</td>\n",
       "      <td>Medium</td>\n",
       "      <td>8</td>\n",
       "      <td>1294.04</td>\n",
       "      <td>0.05</td>\n",
       "      <td>Delivery Truck</td>\n",
       "      <td>-323.18</td>\n",
       "      <td>150.98</td>\n",
       "      <td>66.27</td>\n",
       "      <td>Mick Brown</td>\n",
       "      <td>Alberta</td>\n",
       "      <td>West</td>\n",
       "      <td>Consumer</td>\n",
       "      <td>Furniture</td>\n",
       "      <td>Bookcases</td>\n",
       "      <td>0.65</td>\n",
       "      <td>09-08-2010</td>\n",
       "    </tr>\n",
       "    <tr>\n",
       "      <th>8395</th>\n",
       "      <td>55558</td>\n",
       "      <td>09-08-2010</td>\n",
       "      <td>Medium</td>\n",
       "      <td>23</td>\n",
       "      <td>392.57</td>\n",
       "      <td>0.04</td>\n",
       "      <td>Regular Air</td>\n",
       "      <td>22.25</td>\n",
       "      <td>17.07</td>\n",
       "      <td>8.13</td>\n",
       "      <td>Mick Brown</td>\n",
       "      <td>Alberta</td>\n",
       "      <td>West</td>\n",
       "      <td>Consumer</td>\n",
       "      <td>Office Supplies</td>\n",
       "      <td>Envelopes</td>\n",
       "      <td>0.38</td>\n",
       "      <td>11-08-2010</td>\n",
       "    </tr>\n",
       "    <tr>\n",
       "      <th>8396</th>\n",
       "      <td>56550</td>\n",
       "      <td>08-04-2011</td>\n",
       "      <td>Not Specified</td>\n",
       "      <td>37</td>\n",
       "      <td>823.78</td>\n",
       "      <td>0.03</td>\n",
       "      <td>Express Air</td>\n",
       "      <td>343.05</td>\n",
       "      <td>22.23</td>\n",
       "      <td>5.08</td>\n",
       "      <td>Frank Hawley</td>\n",
       "      <td>Alberta</td>\n",
       "      <td>West</td>\n",
       "      <td>Home Office</td>\n",
       "      <td>Furniture</td>\n",
       "      <td>Office Furnishings</td>\n",
       "      <td>0.41</td>\n",
       "      <td>10-04-2011</td>\n",
       "    </tr>\n",
       "    <tr>\n",
       "      <th>8397</th>\n",
       "      <td>56550</td>\n",
       "      <td>08-04-2011</td>\n",
       "      <td>Not Specified</td>\n",
       "      <td>8</td>\n",
       "      <td>469.84</td>\n",
       "      <td>0.00</td>\n",
       "      <td>Regular Air</td>\n",
       "      <td>-159.24</td>\n",
       "      <td>65.99</td>\n",
       "      <td>8.99</td>\n",
       "      <td>Frank Hawley</td>\n",
       "      <td>Alberta</td>\n",
       "      <td>West</td>\n",
       "      <td>Home Office</td>\n",
       "      <td>Technology</td>\n",
       "      <td>Telephones and Communication</td>\n",
       "      <td>0.56</td>\n",
       "      <td>09-04-2011</td>\n",
       "    </tr>\n",
       "    <tr>\n",
       "      <th>8398</th>\n",
       "      <td>56581</td>\n",
       "      <td>08-02-2009</td>\n",
       "      <td>High</td>\n",
       "      <td>20</td>\n",
       "      <td>2026.01</td>\n",
       "      <td>0.10</td>\n",
       "      <td>Express Air</td>\n",
       "      <td>580.43</td>\n",
       "      <td>105.98</td>\n",
       "      <td>13.99</td>\n",
       "      <td>Grant Donatelli</td>\n",
       "      <td>Alberta</td>\n",
       "      <td>West</td>\n",
       "      <td>Consumer</td>\n",
       "      <td>Furniture</td>\n",
       "      <td>Office Furnishings</td>\n",
       "      <td>0.65</td>\n",
       "      <td>11-02-2009</td>\n",
       "    </tr>\n",
       "  </tbody>\n",
       "</table>\n",
       "<p>8399 rows × 18 columns</p>\n",
       "</div>"
      ],
      "text/plain": [
       "      Order ID  Order Date Order Priority  Order Quantity    Sales  Discount  \\\n",
       "0            3  13-10-2010            Low               6   261.54      0.04   \n",
       "1          293  01-10-2012           High              49 10123.02      0.07   \n",
       "2          293  01-10-2012           High              27   244.57      0.01   \n",
       "3          483  10-07-2011           High              30  4965.76      0.08   \n",
       "4          515  28-08-2010  Not Specified              19   394.27      0.08   \n",
       "...        ...         ...            ...             ...      ...       ...   \n",
       "8394     55558  09-08-2010         Medium               8  1294.04      0.05   \n",
       "8395     55558  09-08-2010         Medium              23   392.57      0.04   \n",
       "8396     56550  08-04-2011  Not Specified              37   823.78      0.03   \n",
       "8397     56550  08-04-2011  Not Specified               8   469.84      0.00   \n",
       "8398     56581  08-02-2009           High              20  2026.01      0.10   \n",
       "\n",
       "           Ship Mode  Profit  Unit Price  Shipping Cost       Customer Name  \\\n",
       "0        Regular Air -213.25       38.94          35.00  Muhammed MacIntyre   \n",
       "1     Delivery Truck  457.81      208.16          68.02        Barry French   \n",
       "2        Regular Air   46.71        8.69           2.99        Barry French   \n",
       "3        Regular Air 1198.97      195.99           3.99       Clay Rozendal   \n",
       "4        Regular Air   30.94       21.78           5.94      Carlos Soltero   \n",
       "...              ...     ...         ...            ...                 ...   \n",
       "8394  Delivery Truck -323.18      150.98          66.27          Mick Brown   \n",
       "8395     Regular Air   22.25       17.07           8.13          Mick Brown   \n",
       "8396     Express Air  343.05       22.23           5.08        Frank Hawley   \n",
       "8397     Regular Air -159.24       65.99           8.99        Frank Hawley   \n",
       "8398     Express Air  580.43      105.98          13.99     Grant Donatelli   \n",
       "\n",
       "     Province   Region Customer Segment Product Category  \\\n",
       "0     Nunavut  Nunavut   Small Business  Office Supplies   \n",
       "1     Nunavut  Nunavut         Consumer  Office Supplies   \n",
       "2     Nunavut  Nunavut         Consumer  Office Supplies   \n",
       "3     Nunavut  Nunavut        Corporate       Technology   \n",
       "4     Nunavut  Nunavut         Consumer  Office Supplies   \n",
       "...       ...      ...              ...              ...   \n",
       "8394  Alberta     West         Consumer        Furniture   \n",
       "8395  Alberta     West         Consumer  Office Supplies   \n",
       "8396  Alberta     West      Home Office        Furniture   \n",
       "8397  Alberta     West      Home Office       Technology   \n",
       "8398  Alberta     West         Consumer        Furniture   \n",
       "\n",
       "                Product Sub-Category  Product Base Margin   Ship Date  \n",
       "0             Storage & Organization                 0.80  20-10-2010  \n",
       "1                         Appliances                 0.58  02-10-2012  \n",
       "2     Binders and Binder Accessories                 0.39  03-10-2012  \n",
       "3       Telephones and Communication                 0.58  12-07-2011  \n",
       "4                         Appliances                 0.50  30-08-2010  \n",
       "...                              ...                  ...         ...  \n",
       "8394                       Bookcases                 0.65  09-08-2010  \n",
       "8395                       Envelopes                 0.38  11-08-2010  \n",
       "8396              Office Furnishings                 0.41  10-04-2011  \n",
       "8397    Telephones and Communication                 0.56  09-04-2011  \n",
       "8398              Office Furnishings                 0.65  11-02-2009  \n",
       "\n",
       "[8399 rows x 18 columns]"
      ]
     },
     "execution_count": 51,
     "metadata": {},
     "output_type": "execute_result"
    }
   ],
   "source": [
    "df"
   ]
  },
  {
   "cell_type": "code",
   "execution_count": 52,
   "id": "d6bad8b5",
   "metadata": {},
   "outputs": [
    {
     "data": {
      "text/plain": [
       "Order ID                 0\n",
       "Order Date               0\n",
       "Order Priority           0\n",
       "Order Quantity           0\n",
       "Sales                    0\n",
       "Discount                 0\n",
       "Ship Mode                0\n",
       "Profit                   0\n",
       "Unit Price               0\n",
       "Shipping Cost            0\n",
       "Customer Name            0\n",
       "Province                 0\n",
       "Region                   0\n",
       "Customer Segment         0\n",
       "Product Category         0\n",
       "Product Sub-Category     0\n",
       "Product Base Margin     63\n",
       "Ship Date                0\n",
       "dtype: int64"
      ]
     },
     "execution_count": 52,
     "metadata": {},
     "output_type": "execute_result"
    }
   ],
   "source": [
    "df.isnull().sum()"
   ]
  },
  {
   "cell_type": "code",
   "execution_count": 53,
   "id": "cf2859f3",
   "metadata": {},
   "outputs": [],
   "source": [
    "df['Product Base Margin'] = df['Product Base Margin'].fillna(0)"
   ]
  },
  {
   "cell_type": "code",
   "execution_count": 54,
   "id": "fa6fd07f",
   "metadata": {},
   "outputs": [
    {
     "data": {
      "text/plain": [
       "0   0.80\n",
       "1   0.58\n",
       "2   0.39\n",
       "3   0.58\n",
       "4   0.50\n",
       "5   0.37\n",
       "6   0.38\n",
       "7   0.00\n",
       "8   0.00\n",
       "9   0.38\n",
       "Name: Product Base Margin, dtype: float64"
      ]
     },
     "execution_count": 54,
     "metadata": {},
     "output_type": "execute_result"
    }
   ],
   "source": [
    "df['Product Base Margin'].head(10)"
   ]
  },
  {
   "cell_type": "markdown",
   "id": "39528aa3",
   "metadata": {},
   "source": [
    "# Build the Linear Regression Model"
   ]
  },
  {
   "cell_type": "code",
   "execution_count": 55,
   "id": "64f5a514",
   "metadata": {},
   "outputs": [],
   "source": [
    "df1 = df.copy()"
   ]
  },
  {
   "cell_type": "markdown",
   "id": "b8fff1ad",
   "metadata": {},
   "source": [
    "#Create X and Y data Metrics"
   ]
  },
  {
   "cell_type": "code",
   "execution_count": 56,
   "id": "634887d6",
   "metadata": {},
   "outputs": [],
   "source": [
    "Y = df1['Sales']"
   ]
  },
  {
   "cell_type": "code",
   "execution_count": 57,
   "id": "bdf978d6",
   "metadata": {},
   "outputs": [],
   "source": [
    "X = df1[['Order Quantity','Discount','Profit','Unit Price']]"
   ]
  },
  {
   "cell_type": "code",
   "execution_count": 58,
   "id": "2c5047c3",
   "metadata": {},
   "outputs": [
    {
     "data": {
      "text/plain": [
       "((8399, 4), (8399,))"
      ]
     },
     "execution_count": 58,
     "metadata": {},
     "output_type": "execute_result"
    }
   ],
   "source": [
    "X.shape, Y.shape"
   ]
  },
  {
   "cell_type": "markdown",
   "id": "931ff29b",
   "metadata": {},
   "source": [
    "# Data Split: Train and Test the data"
   ]
  },
  {
   "cell_type": "code",
   "execution_count": 59,
   "id": "b526a92a",
   "metadata": {},
   "outputs": [],
   "source": [
    "from sklearn.model_selection import train_test_split"
   ]
  },
  {
   "cell_type": "code",
   "execution_count": 60,
   "id": "2d8212c4",
   "metadata": {},
   "outputs": [],
   "source": [
    "X_train, X_test, Y_train, Y_test = train_test_split(X,Y, test_size = 0.2)"
   ]
  },
  {
   "cell_type": "code",
   "execution_count": 61,
   "id": "8b16bc89",
   "metadata": {},
   "outputs": [
    {
     "data": {
      "text/plain": [
       "((6719, 4), (6719,))"
      ]
     },
     "execution_count": 61,
     "metadata": {},
     "output_type": "execute_result"
    }
   ],
   "source": [
    "X_train.shape, Y_train.shape"
   ]
  },
  {
   "cell_type": "code",
   "execution_count": 62,
   "id": "7c16f82b",
   "metadata": {},
   "outputs": [
    {
     "data": {
      "text/plain": [
       "((1680, 4), (1680,))"
      ]
     },
     "execution_count": 62,
     "metadata": {},
     "output_type": "execute_result"
    }
   ],
   "source": [
    "X_test.shape, Y_test.shape"
   ]
  },
  {
   "cell_type": "markdown",
   "id": "9738845b",
   "metadata": {},
   "source": [
    "#  Linear Regression Model"
   ]
  },
  {
   "cell_type": "code",
   "execution_count": 63,
   "id": "a419907b",
   "metadata": {},
   "outputs": [],
   "source": [
    "from sklearn import linear_model\n",
    "from sklearn.metrics import mean_squared_error, r2_score"
   ]
  },
  {
   "cell_type": "code",
   "execution_count": 64,
   "id": "e8aae59f",
   "metadata": {},
   "outputs": [
    {
     "data": {
      "text/plain": [
       "LinearRegression()"
      ]
     },
     "execution_count": 64,
     "metadata": {},
     "output_type": "execute_result"
    }
   ],
   "source": [
    "model = linear_model.LinearRegression()\n",
    "model.fit(X_train,Y_train)"
   ]
  },
  {
   "cell_type": "markdown",
   "id": "f415743d",
   "metadata": {},
   "source": [
    "# Predection the model"
   ]
  },
  {
   "cell_type": "code",
   "execution_count": 65,
   "id": "af21b224",
   "metadata": {},
   "outputs": [
    {
     "data": {
      "text/plain": [
       "array([  659.79880036,  1369.14235075,  2294.98388812, ...,\n",
       "         989.99673204, 13507.40517016,  1393.32927809])"
      ]
     },
     "execution_count": 65,
     "metadata": {},
     "output_type": "execute_result"
    }
   ],
   "source": [
    "Y_pred = model.predict(X_test)\n",
    "Y_pred"
   ]
  },
  {
   "cell_type": "code",
   "execution_count": 67,
   "id": "a8309c71",
   "metadata": {},
   "outputs": [
    {
     "data": {
      "text/plain": [
       "Text(0.5, 1.0, 'Actual Sales vs Predicted Sales')"
      ]
     },
     "execution_count": 67,
     "metadata": {},
     "output_type": "execute_result"
    },
    {
     "data": {
      "image/png": "[encoded data removed]",
      "text/plain": [
       "<Figure size 432x288 with 1 Axes>"
      ]
     },
     "metadata": {
      "needs_background": "light"
     },
     "output_type": "display_data"
    }
   ],
   "source": [
    "ax = sns.scatterplot(x=Y_test, y=Y_pred, alpha = 0.7)\n",
    "ax.set_xlabel(\"Actual Sales\")\n",
    "ax.set_ylabel(\"Predict Sales\")\n",
    "ax.set_title(\"Actual Sales vs Predicted Sales\")"
   ]
  },
  {
   "cell_type": "code",
   "execution_count": 70,
   "id": "3d167713",
   "metadata": {},
   "outputs": [
    {
     "data": {
      "text/plain": [
       "Text(0.5, 1.0, 'Actual Sales vs Predicted Sales')"
      ]
     },
     "execution_count": 70,
     "metadata": {},
     "output_type": "execute_result"
    },
    {
     "data": {
      "image/png": "[encoded data removed]",
      "text/plain": [
       "<Figure size 432x288 with 1 Axes>"
      ]
     },
     "metadata": {
      "needs_background": "light"
     },
     "output_type": "display_data"
    }
   ],
   "source": [
    "ax = sns.boxplot(x=Y_test, y=Y_pred)\n",
    "ax.set_xlabel(\"Actual Sales\")\n",
    "ax.set_ylabel(\"Predict Sales\")\n",
    "ax.set_title(\"Actual Sales vs Predicted Sales\")"
   ]
  },
  {
   "cell_type": "code",
   "execution_count": 73,
   "id": "9666cd5f",
   "metadata": {},
   "outputs": [
    {
     "data": {
      "text/plain": [
       "Text(0.5, 1.0, 'Actual Sales vs Predicted Sales')"
      ]
     },
     "execution_count": 73,
     "metadata": {},
     "output_type": "execute_result"
    },
    {
     "data": {
      "image/png": "[encoded data removed]",
      "text/plain": [
       "<Figure size 432x288 with 1 Axes>"
      ]
     },
     "metadata": {
      "needs_background": "light"
     },
     "output_type": "display_data"
    }
   ],
   "source": [
    "ax = sns.lineplot(x=Y_test, y=Y_pred)\n",
    "ax.set_xlabel(\"Actual Sales\")\n",
    "ax.set_ylabel(\"Predict Sales\")\n",
    "ax.set_title(\"Actual Sales vs Predicted Sales\")"
   ]
  },
  {
   "cell_type": "code",
   "execution_count": null,
   "id": "2c4cbabb",
   "metadata": {},
   "outputs": [],
   "source": []
  }
 ],
 "metadata": {
  "kernelspec": {
   "display_name": "Python 3",
   "language": "python",
   "name": "python3"
  },
  "language_info": {
   "codemirror_mode": {
    "name": "ipython",
    "version": 3
   },
   "file_extension": ".py",
   "mimetype": "text/x-python",
   "name": "python",
   "nbconvert_exporter": "python",
   "pygments_lexer": "ipython3",
   "version": "3.8.8"
  }
 },
 "nbformat": 4,
 "nbformat_minor": 5
}
